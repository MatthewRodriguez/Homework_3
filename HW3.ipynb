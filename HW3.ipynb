{
 "cells": [
  {
   "cell_type": "markdown",
   "metadata": {},
   "source": [
    "# This is Solution for HW3"
   ]
  },
  {
   "cell_type": "code",
   "execution_count": null,
   "metadata": {},
   "outputs": [],
   "source": [
    "# Author: Matthew Rodriguez\n",
    "# Date: 2020/01/29\n",
    "# CS301-006, Professor Watson\n",
    "# HW3 Solution\n",
    "# Reading a .csv file and determine the frame of that file. \n",
    "# Determining the outliers of specific collumns within the files as well as how far data are from mean.\n",
    "# link to the git repo: https://github.com/MatthewRodriguez?tab=repositories\n",
    "# link-to-the-relevant-git-commit: https://github.com/MatthewRodriguez/HW_2/commits/master\n",
    "# name-of-the-branch: master"
   ]
  },
  {
   "cell_type": "markdown",
   "metadata": {},
   "source": [
    "### Implementation of data_reader"
   ]
  },
  {
   "cell_type": "code",
   "execution_count": 5,
   "metadata": {},
   "outputs": [],
   "source": [
    "import pandas as pd\n",
    "def data_reader(pathFile):\n",
    "    try:\n",
    "        doc = pd.read_csv(pathFile)\n",
    "        frame = pd.DataFrame(doc)\n",
    "        print('The shape is: ', frame.shape)\n",
    "        return frame\n",
    "    except:\n",
    "        print('Error during reading, please try again.')\n",
    "        return None"
   ]
  },
  {
   "cell_type": "markdown",
   "metadata": {},
   "source": [
    "### Implementation of get_num_outliers"
   ]
  },
  {
   "cell_type": "code",
   "execution_count": 12,
   "metadata": {},
   "outputs": [],
   "source": [
    "def get_num_outliers(df, s):\n",
    "    summary = df.describe()\n",
    "    q1, q3, count = summary.loc['25%'][s], summary.loc['75%'][s], 0\n",
    "    iqr = q3 - q1\n",
    "    lb, ub = q1 - (1.5 * iqr), q3 + (1.5 * iqr)\n",
    "    outliers = df.loc[(df[s]<lb) | (df[s]>ub)]\n",
    "    for i in outliers[s]:\n",
    "        count += 1\n",
    "    return count"
   ]
  },
  {
   "cell_type": "markdown",
   "metadata": {},
   "source": [
    "### Implementation of get_num_deviants"
   ]
  },
  {
   "cell_type": "code",
   "execution_count": 13,
   "metadata": {},
   "outputs": [],
   "source": [
    "def get_num_deviants(my, s, n):\n",
    "    summary = my[s].describe()\n",
    "    mean, std = summary.loc['mean'], summary.loc['std']\n",
    "    count = 0\n",
    "    for i in my[s]:\n",
    "        result = i - mean\n",
    "        std_away = result / std\n",
    "        if (std_away > n):\n",
    "            count += 1\n",
    "    return count"
   ]
  },
  {
   "cell_type": "markdown",
   "metadata": {},
   "source": [
    "##### Testing Functions"
   ]
  },
  {
   "cell_type": "code",
   "execution_count": 23,
   "metadata": {},
   "outputs": [
    {
     "name": "stdout",
     "output_type": "stream",
     "text": [
      "The shape is:  (193, 6)\n",
      "26\n",
      "28\n"
     ]
    }
   ],
   "source": [
    "document = '/Users/matthewrodriguez/documents/cs 301/drinks.csv'\n",
    "my = data_reader(document)\n",
    "print(get_num_outliers(my, 'wine_servings'))\n",
    "print(get_num_deviants(my, 'wine_servings', 1))"
   ]
  },
  {
   "cell_type": "code",
   "execution_count": null,
   "metadata": {},
   "outputs": [],
   "source": []
  }
 ],
 "metadata": {
  "kernelspec": {
   "display_name": "Python 3",
   "language": "python",
   "name": "python3"
  },
  "language_info": {
   "codemirror_mode": {
    "name": "ipython",
    "version": 3
   },
   "file_extension": ".py",
   "mimetype": "text/x-python",
   "name": "python",
   "nbconvert_exporter": "python",
   "pygments_lexer": "ipython3",
   "version": "3.7.4"
  }
 },
 "nbformat": 4,
 "nbformat_minor": 2
}
